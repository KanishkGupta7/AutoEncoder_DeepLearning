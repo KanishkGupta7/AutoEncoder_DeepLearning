{
 "cells": [
  {
   "cell_type": "code",
   "execution_count": 2,
   "metadata": {},
   "outputs": [],
   "source": [
    "from keras.datasets import mnist\n",
    "from keras.layers import Input, Dense\n",
    "from keras.models import Model\n",
    "import numpy as np\n",
    "import pandas as pd\n",
    "import matplotlib.pyplot as plt\n",
    "\n",
    "%matplotlib inline"
   ]
  },
  {
   "cell_type": "code",
   "execution_count": 12,
   "metadata": {},
   "outputs": [],
   "source": [
    "(X_train, _), (X_test, _) = mnist.load_data()\n"
   ]
  },
  {
   "cell_type": "code",
   "execution_count": 20,
   "metadata": {},
   "outputs": [],
   "source": [
    "\n",
    "X_train = X_train.astype('float32')/255\n",
    "X_test = X_test.astype('float32')/255\n"
   ]
  },
  {
   "cell_type": "code",
   "execution_count": 21,
   "metadata": {},
   "outputs": [],
   "source": [
    "X_train = X_train.reshape(len(X_train), np.prod(X_train.shape[1:]))\n",
    "X_test = X_test.reshape(len(X_test), np.prod(X_test.shape[1:]))"
   ]
  },
  {
   "cell_type": "code",
   "execution_count": 22,
   "metadata": {},
   "outputs": [
    {
     "name": "stdout",
     "output_type": "stream",
     "text": [
      "(60000, 784)\n",
      "(10000, 784)\n"
     ]
    }
   ],
   "source": [
    "print(X_train.shape)\n",
    "print(X_test.shape)"
   ]
  },
  {
   "cell_type": "code",
   "execution_count": 24,
   "metadata": {},
   "outputs": [],
   "source": [
    "input_img= Input(shape=(784,))\n",
    "\n",
    "\n",
    "\n"
   ]
  },
  {
   "cell_type": "code",
   "execution_count": 25,
   "metadata": {},
   "outputs": [
    {
     "name": "stdout",
     "output_type": "stream",
     "text": [
      "WARNING:tensorflow:From C:\\ProgramData\\Anaconda3\\lib\\site-packages\\tensorflow\\python\\framework\\op_def_library.py:263: colocate_with (from tensorflow.python.framework.ops) is deprecated and will be removed in a future version.\n",
      "Instructions for updating:\n",
      "Colocations handled automatically by placer.\n"
     ]
    }
   ],
   "source": [
    "encoded = Dense(units=32, activation='relu')(input_img)"
   ]
  },
  {
   "cell_type": "code",
   "execution_count": 26,
   "metadata": {},
   "outputs": [],
   "source": [
    "decoded = Dense(units=784, activation='sigmoid')(encoded)\n"
   ]
  },
  {
   "cell_type": "code",
   "execution_count": 27,
   "metadata": {},
   "outputs": [],
   "source": [
    "autoencoder=Model(input_img, decoded)\n"
   ]
  },
  {
   "cell_type": "code",
   "execution_count": 28,
   "metadata": {},
   "outputs": [
    {
     "name": "stdout",
     "output_type": "stream",
     "text": [
      "_________________________________________________________________\n",
      "Layer (type)                 Output Shape              Param #   \n",
      "=================================================================\n",
      "input_2 (InputLayer)         (None, 784)               0         \n",
      "_________________________________________________________________\n",
      "dense_1 (Dense)              (None, 32)                25120     \n",
      "_________________________________________________________________\n",
      "dense_2 (Dense)              (None, 784)               25872     \n",
      "=================================================================\n",
      "Total params: 50,992\n",
      "Trainable params: 50,992\n",
      "Non-trainable params: 0\n",
      "_________________________________________________________________\n"
     ]
    }
   ],
   "source": [
    "autoencoder.summary()\n"
   ]
  },
  {
   "cell_type": "code",
   "execution_count": 29,
   "metadata": {},
   "outputs": [],
   "source": [
    "autoencoder.compile(optimizer='adadelta', loss='binary_crossentropy', metrics=['accuracy'])\n"
   ]
  },
  {
   "cell_type": "code",
   "execution_count": 31,
   "metadata": {},
   "outputs": [
    {
     "name": "stdout",
     "output_type": "stream",
     "text": [
      "Train on 60000 samples, validate on 10000 samples\n",
      "Epoch 1/50\n",
      "60000/60000 [==============================] - 8s 126us/step - loss: 0.0036 - acc: 0.8088 - val_loss: 0.0031 - val_acc: 0.8072\n",
      "Epoch 2/50\n",
      "60000/60000 [==============================] - 5s 91us/step - loss: 0.0027 - acc: 0.8088 - val_loss: 0.0024 - val_acc: 0.8072\n",
      "Epoch 3/50\n",
      "60000/60000 [==============================] - 5s 88us/step - loss: 0.0021 - acc: 0.8088 - val_loss: 0.0019 - val_acc: 0.8072\n",
      "Epoch 4/50\n",
      "60000/60000 [==============================] - 5s 91us/step - loss: 0.0017 - acc: 0.8088 - val_loss: 0.0016 - val_acc: 0.8072\n",
      "Epoch 5/50\n",
      "60000/60000 [==============================] - 5s 87us/step - loss: 0.0015 - acc: 0.8088 - val_loss: 0.0014 - val_acc: 0.8072\n",
      "Epoch 6/50\n",
      "60000/60000 [==============================] - 5s 87us/step - loss: 0.0013 - acc: 0.8088 - val_loss: 0.0012 - val_acc: 0.8072\n",
      "Epoch 7/50\n",
      "60000/60000 [==============================] - 5s 84us/step - loss: 0.0011 - acc: 0.8088 - val_loss: 0.0010 - val_acc: 0.8072\n",
      "Epoch 8/50\n",
      "60000/60000 [==============================] - 5s 89us/step - loss: 9.8787e-04 - acc: 0.8088 - val_loss: 9.3401e-04 - val_acc: 0.8072\n",
      "Epoch 9/50\n",
      "60000/60000 [==============================] - 5s 88us/step - loss: 8.8746e-04 - acc: 0.8088 - val_loss: 8.4318e-04 - val_acc: 0.8072\n",
      "Epoch 10/50\n",
      "60000/60000 [==============================] - 6s 93us/step - loss: 8.0449e-04 - acc: 0.8088 - val_loss: 7.6748e-04 - val_acc: 0.8072\n",
      "Epoch 11/50\n",
      "60000/60000 [==============================] - 6s 108us/step - loss: 7.3485e-04 - acc: 0.8088 - val_loss: 7.0351e-04 - val_acc: 0.8072\n",
      "Epoch 12/50\n",
      "60000/60000 [==============================] - 6s 96us/step - loss: 6.7565e-04 - acc: 0.8088 - val_loss: 6.4879e-04 - val_acc: 0.8072\n",
      "Epoch 13/50\n",
      "60000/60000 [==============================] - 6s 100us/step - loss: 6.2475e-04 - acc: 0.8088 - val_loss: 6.0150e-04 - val_acc: 0.8072\n",
      "Epoch 14/50\n",
      "60000/60000 [==============================] - 7s 110us/step - loss: 5.8056e-04 - acc: 0.8088 - val_loss: 5.6025e-04 - val_acc: 0.8072\n",
      "Epoch 15/50\n",
      "60000/60000 [==============================] - 5s 91us/step - loss: 5.4186e-04 - acc: 0.8088 - val_loss: 5.2398e-04 - val_acc: 0.8072\n",
      "Epoch 16/50\n",
      "60000/60000 [==============================] - 5s 89us/step - loss: 5.0771e-04 - acc: 0.8088 - val_loss: 4.9186e-04 - val_acc: 0.8072\n",
      "Epoch 17/50\n",
      "60000/60000 [==============================] - 5s 88us/step - loss: 4.7737e-04 - acc: 0.8088 - val_loss: 4.6323e-04 - val_acc: 0.8072\n",
      "Epoch 18/50\n",
      "60000/60000 [==============================] - 6s 94us/step - loss: 4.5025e-04 - acc: 0.8088 - val_loss: 4.3756e-04 - val_acc: 0.8072\n",
      "Epoch 19/50\n",
      "60000/60000 [==============================] - 6s 93us/step - loss: 4.2588e-04 - acc: 0.8088 - val_loss: 4.1443e-04 - val_acc: 0.8072\n",
      "Epoch 20/50\n",
      "60000/60000 [==============================] - 5s 90us/step - loss: 4.0386e-04 - acc: 0.8088 - val_loss: 3.9349e-04 - val_acc: 0.8072\n",
      "Epoch 21/50\n",
      "60000/60000 [==============================] - 5s 91us/step - loss: 3.8389e-04 - acc: 0.8088 - val_loss: 3.7444e-04 - val_acc: 0.8072\n",
      "Epoch 22/50\n",
      "60000/60000 [==============================] - 5s 88us/step - loss: 3.6568e-04 - acc: 0.8088 - val_loss: 3.5705e-04 - val_acc: 0.8072\n",
      "Epoch 23/50\n",
      "60000/60000 [==============================] - 6s 92us/step - loss: 3.4903e-04 - acc: 0.8088 - val_loss: 3.4112e-04 - val_acc: 0.8072\n",
      "Epoch 24/50\n",
      "60000/60000 [==============================] - 6s 96us/step - loss: 3.3375e-04 - acc: 0.8088 - val_loss: 3.2647e-04 - val_acc: 0.8072\n",
      "Epoch 25/50\n",
      "60000/60000 [==============================] - 5s 89us/step - loss: 3.1966e-04 - acc: 0.8088 - val_loss: 3.1295e-04 - val_acc: 0.8072 loss: 3.2105e-04  - ETA: 0s - loss: 3.1999e-04 - acc: 0\n",
      "Epoch 26/50\n",
      "60000/60000 [==============================] - 6s 94us/step - loss: 3.0666e-04 - acc: 0.8088 - val_loss: 3.0044e-04 - val_acc: 0.8072\n",
      "Epoch 27/50\n",
      "60000/60000 [==============================] - 5s 89us/step - loss: 2.9461e-04 - acc: 0.8088 - val_loss: 2.8884e-04 - val_acc: 0.8072\n",
      "Epoch 28/50\n",
      "60000/60000 [==============================] - 5s 89us/step - loss: 2.8342e-04 - acc: 0.8088 - val_loss: 2.7805e-04 - val_acc: 0.8072\n",
      "Epoch 29/50\n",
      "60000/60000 [==============================] - 5s 91us/step - loss: 2.7300e-04 - acc: 0.8088 - val_loss: 2.6799e-04 - val_acc: 0.8072\n",
      "Epoch 30/50\n",
      "60000/60000 [==============================] - 5s 89us/step - loss: 2.6328e-04 - acc: 0.8088 - val_loss: 2.5860e-04 - val_acc: 0.8072\n",
      "Epoch 31/50\n",
      "60000/60000 [==============================] - 5s 86us/step - loss: 2.5418e-04 - acc: 0.8088 - val_loss: 2.4981e-04 - val_acc: 0.8072\n",
      "Epoch 32/50\n",
      "60000/60000 [==============================] - 5s 90us/step - loss: 2.4567e-04 - acc: 0.8088 - val_loss: 2.4156e-04 - val_acc: 0.8072\n",
      "Epoch 33/50\n",
      "60000/60000 [==============================] - 6s 98us/step - loss: 2.3767e-04 - acc: 0.8088 - val_loss: 2.3381e-04 - val_acc: 0.8072\n",
      "Epoch 34/50\n",
      "60000/60000 [==============================] - 6s 100us/step - loss: 2.3015e-04 - acc: 0.8088 - val_loss: 2.2651e-04 - val_acc: 0.8072\n",
      "Epoch 35/50\n",
      "60000/60000 [==============================] - 6s 95us/step - loss: 2.2306e-04 - acc: 0.8088 - val_loss: 2.1963e-04 - val_acc: 0.8072\n",
      "Epoch 36/50\n",
      "60000/60000 [==============================] - 6s 95us/step - loss: 2.1637e-04 - acc: 0.8088 - val_loss: 2.1313e-04 - val_acc: 0.8072\n",
      "Epoch 37/50\n",
      "60000/60000 [==============================] - 5s 92us/step - loss: 2.1005e-04 - acc: 0.8088 - val_loss: 2.0698e-04 - val_acc: 0.8072\n",
      "Epoch 38/50\n",
      "60000/60000 [==============================] - 5s 92us/step - loss: 2.0407e-04 - acc: 0.8088 - val_loss: 2.0116e-04 - val_acc: 0.8072\n",
      "Epoch 39/50\n",
      "60000/60000 [==============================] - 6s 93us/step - loss: 1.9840e-04 - acc: 0.8088 - val_loss: 1.9564e-04 - val_acc: 0.8072\n",
      "Epoch 40/50\n",
      "60000/60000 [==============================] - 5s 91us/step - loss: 1.9302e-04 - acc: 0.8088 - val_loss: 1.9041e-04 - val_acc: 0.8072\n",
      "Epoch 41/50\n",
      "60000/60000 [==============================] - 5s 89us/step - loss: 1.8791e-04 - acc: 0.8088 - val_loss: 1.8543e-04 - val_acc: 0.8072\n",
      "Epoch 42/50\n",
      "60000/60000 [==============================] - 5s 90us/step - loss: 1.8305e-04 - acc: 0.8088 - val_loss: 1.8069e-04 - val_acc: 0.8072\n",
      "Epoch 43/50\n",
      "60000/60000 [==============================] - 5s 88us/step - loss: 1.7842e-04 - acc: 0.8088 - val_loss: 1.7617e-04 - val_acc: 0.8072\n",
      "Epoch 44/50\n",
      "60000/60000 [==============================] - 6s 92us/step - loss: 1.7401e-04 - acc: 0.8088 - val_loss: 1.7186e-04 - val_acc: 0.8072\n",
      "Epoch 45/50\n",
      "60000/60000 [==============================] - 5s 91us/step - loss: 1.6980e-04 - acc: 0.8088 - val_loss: 1.6774e-04 - val_acc: 0.8072\n",
      "Epoch 46/50\n",
      "60000/60000 [==============================] - 5s 89us/step - loss: 1.6577e-04 - acc: 0.8088 - val_loss: 1.6380e-04 - val_acc: 0.8072\n",
      "Epoch 47/50\n",
      "60000/60000 [==============================] - 5s 86us/step - loss: 1.6192e-04 - acc: 0.8088 - val_loss: 1.6004e-04 - val_acc: 0.8072\n",
      "Epoch 48/50\n",
      "60000/60000 [==============================] - 5s 77us/step - loss: 1.5824e-04 - acc: 0.8088 - val_loss: 1.5643e-04 - val_acc: 0.8072\n",
      "Epoch 49/50\n",
      "60000/60000 [==============================] - 4s 75us/step - loss: 1.5471e-04 - acc: 0.8088 - val_loss: 1.5298e-04 - val_acc: 0.8072\n",
      "Epoch 50/50\n",
      "60000/60000 [==============================] - 5s 87us/step - loss: 1.5132e-04 - acc: 0.8088 - val_loss: 1.4967e-04 - val_acc: 0.8072\n"
     ]
    },
    {
     "data": {
      "text/plain": [
       "<keras.callbacks.History at 0x25103284550>"
      ]
     },
     "execution_count": 31,
     "metadata": {},
     "output_type": "execute_result"
    }
   ],
   "source": [
    "autoencoder.fit(X_train,X_train,epochs=50,batch_size=256,shuffle=True,validation_data=(X_test,X_test))"
   ]
  },
  {
   "cell_type": "code",
   "execution_count": 33,
   "metadata": {},
   "outputs": [],
   "source": [
    "encoder = Model(input_img, encoded)"
   ]
  },
  {
   "cell_type": "code",
   "execution_count": 34,
   "metadata": {},
   "outputs": [],
   "source": [
    "encoded_imgs = encoder.predict(X_test)\n",
    "predicted = autoencoder.predict(X_test)"
   ]
  },
  {
   "cell_type": "code",
   "execution_count": 50,
   "metadata": {},
   "outputs": [
    {
     "data": {
      "image/png": "[encoded data removed]",
      "text/plain": [
       "<Figure size 2880x288 with 30 Axes>"
      ]
     },
     "metadata": {
      "needs_background": "light"
     },
     "output_type": "display_data"
    }
   ],
   "source": [
    "plt.figure(figsize=(40, 4))\n",
    "for i in range(10):\n",
    "    # display original\n",
    "    ax = plt.subplot(3, 20, i + 1)\n",
    "    plt.imshow(X_test[i].reshape(28, 28))\n",
    "    plt.gray()\n",
    "    ax.get_xaxis().set_visible(False)\n",
    "    ax.get_yaxis().set_visible(False)\n",
    "    \n",
    "    # display encoded image\n",
    "    ax = plt.subplot(3, 20, i + 1 + 20)\n",
    "    plt.imshow(encoded_imgs[i].reshape(8,4))\n",
    "    plt.gray()\n",
    "    ax.get_xaxis().set_visible(False)\n",
    "    ax.get_yaxis().set_visible(False)\n",
    "    # display reconstruction\n",
    "    ax = plt.subplot(3, 20, 2*20 +i+ 1)\n",
    "    plt.imshow(predicted[i].reshape(28, 28))\n",
    "    plt.gray()\n",
    "    ax.get_xaxis().set_visible(False)\n",
    "    ax.get_yaxis().set_visible(False)\n",
    "    \n",
    "    \n",
    "    \n",
    "plt.show()"
   ]
  },
  {
   "cell_type": "code",
   "execution_count": null,
   "metadata": {},
   "outputs": [],
   "source": []
  }
 ],
 "metadata": {
  "kernelspec": {
   "display_name": "Python 3",
   "language": "python",
   "name": "python3"
  },
  "language_info": {
   "codemirror_mode": {
    "name": "ipython",
    "version": 3
   },
   "file_extension": ".py",
   "mimetype": "text/x-python",
   "name": "python",
   "nbconvert_exporter": "python",
   "pygments_lexer": "ipython3",
   "version": "3.7.3"
  }
 },
 "nbformat": 4,
 "nbformat_minor": 2
}
